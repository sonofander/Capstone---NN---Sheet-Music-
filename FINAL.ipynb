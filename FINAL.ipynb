{
 "cells": [
  {
   "cell_type": "code",
   "execution_count": 1,
   "metadata": {},
   "outputs": [
    {
     "name": "stdout",
     "output_type": "stream",
     "text": [
      "Populating the interactive namespace from numpy and matplotlib\n"
     ]
    },
    {
     "name": "stderr",
     "output_type": "stream",
     "text": [
      "/usr/local/lib/python2.7/dist-packages/sklearn/cross_validation.py:44: DeprecationWarning: This module was deprecated in version 0.18 in favor of the model_selection module into which all the refactored classes and functions are moved. Also note that the interface of the new CV iterators are different from that of this module. This module will be removed in 0.20.\n",
      "  \"This module will be removed in 0.20.\", DeprecationWarning)\n",
      "Using TensorFlow backend.\n"
     ]
    }
   ],
   "source": [
    "%pylab inline\n",
    "import os\n",
    "import numpy as np\n",
    "import pandas as pd\n",
    "from scipy.misc import imread\n",
    "from sklearn.metrics import accuracy_score\n",
    "from sklearn.cross_validation import train_test_split\n",
    "import re\n",
    "import keras\n",
    "from keras.models import Sequential\n",
    "from keras.layers import Dense, Activation, Dropout, Convolution2D, Flatten, MaxPooling2D, Reshape, InputLayer\n",
    "from keras.optimizers import SGD\n",
    "\n",
    "seed = 128\n",
    "rng = np.random.RandomState(seed)"
   ]
  },
  {
   "cell_type": "code",
   "execution_count": 2,
   "metadata": {
    "collapsed": true
   },
   "outputs": [],
   "source": [
    "root = \"/home/ubuntu/music/Checked/\"\n",
    "path = os.path.join(root, \"targetdirectory\")\n",
    "list1 = []\n",
    "\n",
    "for path, subdirs, files in os.walk(root):\n",
    "    for name in files:\n",
    "        if name.endswith(\".png\"):\n",
    "            cla = re.search('Checked/(\\d+)', os.path.join(path))\n",
    "            path1 = os.path.join(path) + '/' + name\n",
    "            list1.append([os.path.join(name), path1, cla.group(1)])\n",
    "\n",
    "dff = pd.DataFrame(list1, columns=['name','path','key'])"
   ]
  },
  {
   "cell_type": "code",
   "execution_count": 3,
   "metadata": {},
   "outputs": [
    {
     "name": "stdout",
     "output_type": "stream",
     "text": [
      "5194\n"
     ]
    }
   ],
   "source": [
    "    temp = []\n",
    "    i = 0\n",
    "    for img_name in dff['path']:\n",
    "        if os.path.isfile(img_name):\n",
    "            image_path = os.path.join(img_name)\n",
    "    #         print image_path\n",
    "            img = imread(image_path, flatten=True)\n",
    "            img = img.astype('float32')\n",
    "            temp.append(img)\n",
    "            i += 1\n",
    "print i"
   ]
  },
  {
   "cell_type": "code",
   "execution_count": 4,
   "metadata": {},
   "outputs": [
    {
     "name": "stderr",
     "output_type": "stream",
     "text": [
      "/usr/local/lib/python2.7/dist-packages/ipykernel_launcher.py:3: DeprecationWarning: Numeric-style type codes are deprecated and will result in an error in the future.\n",
      "  This is separate from the ipykernel package so we can avoid doing imports until\n"
     ]
    },
    {
     "name": "stdout",
     "output_type": "stream",
     "text": [
      "(5194, 300, 300, 1)\n",
      "(5194,)\n"
     ]
    }
   ],
   "source": [
    "y = dff['key'].values\n",
    "x=np.stack(temp)\n",
    "x = x.reshape(i, 300, 300, 1).astype('Float32')\n",
    "# x = x.reshape(i, 90000).astype('Float32')\n",
    "x /= 255.0\n",
    "x = 1.0 - x\n",
    "print x.shape\n",
    "print y.shape"
   ]
  },
  {
   "cell_type": "code",
   "execution_count": 15,
   "metadata": {},
   "outputs": [
    {
     "data": {
      "text/plain": [
       "<matplotlib.image.AxesImage at 0x7f91f091d790>"
      ]
     },
     "execution_count": 15,
     "metadata": {},
     "output_type": "execute_result"
    },
    {
     "data": {
      "image/png": "[encoded data removed]",
      "text/plain": [
       "<matplotlib.figure.Figure at 0x7f92dbaf3450>"
      ]
     },
     "metadata": {},
     "output_type": "display_data"
    }
   ],
   "source": [
    "plt.imshow(x[111].reshape(300,300))"
   ]
  },
  {
   "cell_type": "code",
   "execution_count": 30,
   "metadata": {
    "collapsed": true
   },
   "outputs": [],
   "source": [
    "xtr, xte, ytr, yte = train_test_split(x, y, stratify=y)\n",
    "ytr = keras.utils.np_utils.to_categorical(ytr, 12)\n",
    "yte = keras.utils.np_utils.to_categorical(yte, 12)"
   ]
  },
  {
   "cell_type": "code",
   "execution_count": 31,
   "metadata": {
    "collapsed": true
   },
   "outputs": [],
   "source": [
    "input_num_units = 90000\n",
    "hidden_num_units = 20\n",
    "output_num_units = 12\n",
    "epochs = 14\n",
    "batch_size = 128\n",
    "pixel_count = 90000"
   ]
  },
  {
   "cell_type": "code",
   "execution_count": 49,
   "metadata": {
    "collapsed": true
   },
   "outputs": [],
   "source": [
    "model = Sequential()\n",
    "model.add(Convolution2D(12, 4, 4, input_shape=(300, 300, 1)))\n",
    "model.add(Activation('relu'))\n",
    "model.add(MaxPooling2D(pool_size=(2,2)))\n",
    "\n",
    "model.add(Convolution2D(12, 4, 4))\n",
    "model.add(Activation('relu'))\n",
    "model.add(MaxPooling2D(pool_size=(2,2)))\n",
    "\n",
    "model.add(Dropout(0.5))\n",
    "model.add(Flatten())\n",
    "model.add(Dense(120))\n",
    "model.add(Activation('relu'))\n",
    "model.add(Dense(12))\n",
    "model.add(Activation('softmax'))\n",
    "\n",
    "model.compile(loss='categorical_crossentropy', metrics=['accuracy'],\n",
    "              optimizer='rmsprop')\n",
    "\n",
    "\n",
    "# RMSProp\n",
    "rms = keras.optimizers.RMSprop(lr=0.0001, rho=0.9, epsilon=1e-08, decay=0.0)\n",
    "model.compile(loss='categorical_crossentropy', metrics=['accuracy'],\n",
    "              optimizer='rmsprop')\n",
    "\n",
    "# Adagrade Optimizer\n",
    "# adagrad = keras.optimizers.Adagrad(lr=0.005, epsilon=1e-08, decay=0.0)\n",
    "# model.compile(loss='categorical_crossentropy', optimizer=adagrad,  metrics=['accuracy'])"
   ]
  },
  {
   "cell_type": "code",
   "execution_count": 50,
   "metadata": {
    "collapsed": true
   },
   "outputs": [],
   "source": [
    "# model.fit(xtr, ytr, batch_size=72, nb_epoch=14, verbose=2, validation_data=(xte, yte))\n",
    "# score, acc = model.evaluate(xte, yte, verbose=0)\n",
    "# print('Test accuracy:', acc)"
   ]
  },
  {
   "cell_type": "code",
   "execution_count": 51,
   "metadata": {},
   "outputs": [
    {
     "name": "stdout",
     "output_type": "stream",
     "text": [
      "Train on 3895 samples, validate on 1299 samples\n",
      "Epoch 1/14\n",
      "13s - loss: 2.1690 - acc: 0.2719 - val_loss: 1.8384 - val_acc: 0.3895\n",
      "Epoch 2/14\n",
      "12s - loss: 1.3032 - acc: 0.5869 - val_loss: 1.6231 - val_acc: 0.5096\n",
      "Epoch 3/14\n",
      "12s - loss: 0.6173 - acc: 0.8113 - val_loss: 1.3765 - val_acc: 0.5989\n",
      "Epoch 4/14\n",
      "13s - loss: 0.2574 - acc: 0.9258 - val_loss: 1.1185 - val_acc: 0.6782\n",
      "Epoch 5/14\n",
      "12s - loss: 0.1291 - acc: 0.9617 - val_loss: 1.0439 - val_acc: 0.6936\n",
      "Epoch 6/14\n",
      "12s - loss: 0.0447 - acc: 0.9890 - val_loss: 1.3664 - val_acc: 0.6851\n",
      "Epoch 7/14\n",
      "12s - loss: 0.0468 - acc: 0.9882 - val_loss: 0.9768 - val_acc: 0.7383\n",
      "Epoch 8/14\n",
      "12s - loss: 0.0224 - acc: 0.9938 - val_loss: 0.9311 - val_acc: 0.7521\n",
      "Epoch 9/14\n",
      "12s - loss: 0.0336 - acc: 0.9920 - val_loss: 0.8820 - val_acc: 0.7560\n",
      "Epoch 10/14\n",
      "12s - loss: 0.0051 - acc: 0.9995 - val_loss: 1.1410 - val_acc: 0.7583\n",
      "Epoch 11/14\n",
      "12s - loss: 0.0045 - acc: 0.9987 - val_loss: 1.2982 - val_acc: 0.7213\n",
      "Epoch 12/14\n",
      "12s - loss: 0.0079 - acc: 0.9977 - val_loss: 1.0943 - val_acc: 0.7760\n",
      "Epoch 13/14\n",
      "12s - loss: 0.0037 - acc: 0.9995 - val_loss: 1.1964 - val_acc: 0.7698\n",
      "Epoch 14/14\n",
      "12s - loss: 0.0044 - acc: 0.9979 - val_loss: 1.0812 - val_acc: 0.7898\n",
      "['acc', 'loss', 'val_acc', 'val_loss']\n"
     ]
    },
    {
     "data": {
      "image/png": "[encoded data removed]",
      "text/plain": [
       "<matplotlib.figure.Figure at 0x7f1888c57e50>"
      ]
     },
     "metadata": {},
     "output_type": "display_data"
    },
    {
     "data": {
      "image/png": "[encoded data removed]",
      "text/plain": [
       "<matplotlib.figure.Figure at 0x7f1888fd5f10>"
      ]
     },
     "metadata": {},
     "output_type": "display_data"
    }
   ],
   "source": [
    "trained_model = model.fit(xtr, ytr, batch_size=72, nb_epoch=14, verbose=2, validation_data=(xte, yte))\n",
    "# list all data in history\n",
    "print(trained_model.history.keys())\n",
    "# summarize history for accuracy\n",
    "plt.plot(trained_model.history['acc'])\n",
    "plt.plot(trained_model.history['val_acc'])\n",
    "plt.title('model accuracy')\n",
    "plt.ylabel('accuracy')\n",
    "plt.xlabel('epoch')\n",
    "plt.legend(['train', 'test'], loc='best')\n",
    "plt.show()\n",
    "# summarize history for loss\n",
    "plt.plot(trained_model.history['loss'])\n",
    "plt.plot(trained_model.history['val_loss'])\n",
    "plt.title('model loss')\n",
    "plt.ylabel('loss')\n",
    "plt.xlabel('epoch')\n",
    "plt.legend(['train', 'test'], loc='best')\n",
    "plt.show()"
   ]
  },
  {
   "cell_type": "code",
   "execution_count": 54,
   "metadata": {},
   "outputs": [
    {
     "name": "stdout",
     "output_type": "stream",
     "text": [
      "('Test score:', 1.081161981343856)\n",
      "('Test accuracy:', 0.78983833782483837)\n"
     ]
    }
   ],
   "source": [
    "score = model.evaluate(xte, yte, show_accuracy=True, verbose=0)\n",
    "print('Test score:', score[0])\n",
    "print('Test accuracy:', score[1])\n",
    "# print(model.predict_classes(xte[1:5]))\n",
    "# print(yte[1:5])"
   ]
  },
  {
   "cell_type": "code",
   "execution_count": 69,
   "metadata": {},
   "outputs": [
    {
     "name": "stdout",
     "output_type": "stream",
     "text": [
      "[[  1.76837982e-03   8.16999935e-04   1.55558158e-02 ...,   1.79298098e-07\n",
      "    3.29634422e-05   3.64697161e-12]\n",
      " [  7.72028434e-05   4.75272195e-08   4.33733732e-07 ...,   2.57283216e-04\n",
      "    1.50306607e-11   5.10046783e-10]\n",
      " [  8.76930417e-10   9.99551713e-01   7.40985342e-05 ...,   1.95820760e-07\n",
      "    2.88297233e-05   3.43544758e-04]\n",
      " ..., \n",
      " [  2.39665106e-08   4.80734030e-08   2.26366978e-08 ...,   3.48177986e-10\n",
      "    2.34230919e-14   8.79130244e-15]\n",
      " [  3.11631108e-15   9.99999881e-01   2.68895739e-10 ...,   1.59206606e-11\n",
      "    1.10004249e-10   7.07952056e-12]\n",
      " [  4.02725732e-07   5.54311700e-05   9.99238133e-01 ...,   2.58180022e-04\n",
      "    1.41239667e-04   1.33013289e-08]]\n",
      "[3 3 1 ..., 3 1 2]\n",
      "1248/1299 [===========================>..] - ETA: 0s[3 3 1 ..., 3 1 2]\n",
      "1248/1299 [===========================>..] - ETA: 0s             precision    recall  f1-score   support\n",
      "\n",
      "          C       0.83      0.95      0.89       229\n",
      "          G       0.82      0.91      0.86       292\n",
      "          D       0.73      0.81      0.77       205\n",
      "          A       0.76      0.76      0.76        86\n",
      "          E       0.67      0.68      0.67        44\n",
      "          B       0.75      0.33      0.46         9\n",
      "         Gb       1.00      0.25      0.40         8\n",
      "         Db       0.67      0.40      0.50        25\n",
      "         Ab       0.67      0.36      0.47        33\n",
      "         Eb       0.75      0.64      0.69        69\n",
      "         Bb       0.74      0.70      0.72       142\n",
      "          F       0.90      0.71      0.79       157\n",
      "\n",
      "avg / total       0.79      0.79      0.78      1299\n",
      "\n",
      "[[217   2   5   0   0   0   0   0   1   1   0   3]\n",
      " [  3 266   7   1   5   0   0   0   0   0   6   4]\n",
      " [  1  22 166   5   3   0   0   0   0   3   5   0]\n",
      " [  2   4   8  65   2   0   0   0   0   2   2   1]\n",
      " [  1   0   1   9  30   1   0   1   0   0   0   1]\n",
      " [  0   3   1   1   0   3   0   0   0   0   1   0]\n",
      " [  1   0   0   1   0   0   2   1   0   0   2   1]\n",
      " [  5   1   1   0   3   0   0  10   3   0   2   0]\n",
      " [  6   0   1   3   1   0   0   2  12   4   4   0]\n",
      " [  4   0  12   1   0   0   0   0   1  44   7   0]\n",
      " [  7   5  23   0   0   0   0   0   1   4  99   3]\n",
      " [ 13  21   3   0   1   0   0   1   0   1   5 112]]\n"
     ]
    }
   ],
   "source": [
    "from sklearn.metrics import classification_report,confusion_matrix\n",
    "\n",
    "Y_pred = model.predict(xte)\n",
    "print(Y_pred)\n",
    "y_pred = np.argmax(Y_pred, axis=1)\n",
    "print(y_pred)\n",
    "\n",
    "y_pred = model.predict_classes(xte)\n",
    "print(y_pred)\n",
    "\n",
    "p=model.predict_proba(xte)\n",
    "\n",
    "target_names = ['C','G','D','A','E','B','Gb','Db','Ab','Eb','Bb','F']\n",
    "print(classification_report(np.argmax(yte,axis=1), y_pred, target_names=target_names))\n",
    "print(confusion_matrix(np.argmax(yte,axis=1), y_pred))"
   ]
  },
  {
   "cell_type": "code",
   "execution_count": 65,
   "metadata": {},
   "outputs": [
    {
     "name": "stdout",
     "output_type": "stream",
     "text": [
      "____________________________________________________________________________________________________\n",
      "Layer (type)                     Output Shape          Param #     Connected to                     \n",
      "====================================================================================================\n",
      "convolution2d_19 (Convolution2D) (None, 297, 297, 12)  204         convolution2d_input_10[0][0]     \n",
      "____________________________________________________________________________________________________\n",
      "activation_37 (Activation)       (None, 297, 297, 12)  0           convolution2d_19[0][0]           \n",
      "____________________________________________________________________________________________________\n",
      "maxpooling2d_19 (MaxPooling2D)   (None, 148, 148, 12)  0           activation_37[0][0]              \n",
      "____________________________________________________________________________________________________\n",
      "convolution2d_20 (Convolution2D) (None, 145, 145, 12)  2316        maxpooling2d_19[0][0]            \n",
      "____________________________________________________________________________________________________\n",
      "activation_38 (Activation)       (None, 145, 145, 12)  0           convolution2d_20[0][0]           \n",
      "____________________________________________________________________________________________________\n",
      "maxpooling2d_20 (MaxPooling2D)   (None, 72, 72, 12)    0           activation_38[0][0]              \n",
      "____________________________________________________________________________________________________\n",
      "dropout_10 (Dropout)             (None, 72, 72, 12)    0           maxpooling2d_20[0][0]            \n",
      "____________________________________________________________________________________________________\n",
      "flatten_10 (Flatten)             (None, 62208)         0           dropout_10[0][0]                 \n",
      "____________________________________________________________________________________________________\n",
      "dense_19 (Dense)                 (None, 120)           7465080     flatten_10[0][0]                 \n",
      "____________________________________________________________________________________________________\n",
      "activation_39 (Activation)       (None, 120)           0           dense_19[0][0]                   \n",
      "____________________________________________________________________________________________________\n",
      "dense_20 (Dense)                 (None, 12)            1452        activation_39[0][0]              \n",
      "____________________________________________________________________________________________________\n",
      "activation_40 (Activation)       (None, 12)            0           dense_20[0][0]                   \n",
      "====================================================================================================\n",
      "Total params: 7,469,052\n",
      "Trainable params: 7,469,052\n",
      "Non-trainable params: 0\n",
      "____________________________________________________________________________________________________\n"
     ]
    }
   ],
   "source": [
    "model.summary()"
   ]
  },
  {
   "cell_type": "code",
   "execution_count": null,
   "metadata": {
    "collapsed": true
   },
   "outputs": [],
   "source": []
  }
 ],
 "metadata": {
  "kernelspec": {
   "display_name": "Python 2",
   "language": "python",
   "name": "python2"
  },
  "language_info": {
   "codemirror_mode": {
    "name": "ipython",
    "version": 2
   },
   "file_extension": ".py",
   "mimetype": "text/x-python",
   "name": "python",
   "nbconvert_exporter": "python",
   "pygments_lexer": "ipython2",
   "version": "2.7.12"
  }
 },
 "nbformat": 4,
 "nbformat_minor": 2
}
