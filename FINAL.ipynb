{
 "cells": [
  {
   "cell_type": "code",
   "execution_count": 16,
   "metadata": {},
   "outputs": [
    {
     "name": "stdout",
     "output_type": "stream",
     "text": [
      "Populating the interactive namespace from numpy and matplotlib\n"
     ]
    },
    {
     "name": "stderr",
     "output_type": "stream",
     "text": [
      "/usr/local/lib/python2.7/dist-packages/IPython/core/magics/pylab.py:161: UserWarning: pylab import has clobbered these variables: ['cla', 'seed', 'imread']\n",
      "`%matplotlib` prevents importing * from pylab and numpy\n",
      "  \"\\n`%matplotlib` prevents importing * from pylab and numpy\"\n"
     ]
    }
   ],
   "source": [
    "%pylab inline\n",
    "import os\n",
    "import numpy as np\n",
    "import pandas as pd\n",
    "from scipy.misc import imread\n",
    "from sklearn.metrics import accuracy_score\n",
    "from sklearn.cross_validation import train_test_split\n",
    "import re\n",
    "import keras\n",
    "from keras.models import Sequential\n",
    "from keras.layers import Dense, Activation, Dropout, Convolution2D, Flatten, MaxPooling2D, Reshape, InputLayer\n",
    "from keras.optimizers import SGD\n",
    "\n",
    "seed = 128\n",
    "rng = np.random.RandomState(seed)"
   ]
  },
  {
   "cell_type": "code",
   "execution_count": 17,
   "metadata": {
    "collapsed": true
   },
   "outputs": [],
   "source": [
    "root = \"/home/ubuntu/music/Checked/\"\n",
    "path = os.path.join(root, \"targetdirectory\")\n",
    "list1 = []\n",
    "\n",
    "for path, subdirs, files in os.walk(root):\n",
    "    for name in files:\n",
    "        if name.endswith(\".png\"):\n",
    "            cla = re.search('Checked/(\\d+)', os.path.join(path))\n",
    "            path1 = os.path.join(path) + '/' + name\n",
    "            list1.append([os.path.join(name), path1, cla.group(1)])\n",
    "\n",
    "dff = pd.DataFrame(list1, columns=['name','path','key'])"
   ]
  },
  {
   "cell_type": "code",
   "execution_count": 18,
   "metadata": {},
   "outputs": [
    {
     "name": "stdout",
     "output_type": "stream",
     "text": [
      "5194\n"
     ]
    }
   ],
   "source": [
    "    temp = []\n",
    "    i = 0\n",
    "    for img_name in dff['path']:\n",
    "        if os.path.isfile(img_name):\n",
    "            image_path = os.path.join(img_name)\n",
    "    #         print image_path\n",
    "            img = imread(image_path, flatten=True)\n",
    "            img = img.astype('float32')\n",
    "            temp.append(img)\n",
    "            i += 1\n",
    "print i"
   ]
  },
  {
   "cell_type": "code",
   "execution_count": 19,
   "metadata": {},
   "outputs": [
    {
     "name": "stderr",
     "output_type": "stream",
     "text": [
      "/usr/local/lib/python2.7/dist-packages/ipykernel_launcher.py:3: DeprecationWarning: Numeric-style type codes are deprecated and will result in an error in the future.\n",
      "  This is separate from the ipykernel package so we can avoid doing imports until\n"
     ]
    },
    {
     "name": "stdout",
     "output_type": "stream",
     "text": [
      "(5194, 300, 300, 1)\n",
      "(5194,)\n"
     ]
    }
   ],
   "source": [
    "y = dff['key'].values\n",
    "x=np.stack(temp)\n",
    "x = x.reshape(i, 300, 300, 1).astype('Float32')\n",
    "# x = x.reshape(i, 90000).astype('Float32')\n",
    "x /= 255.0\n",
    "x = 1.0 - x\n",
    "print x.shape\n",
    "print y.shape"
   ]
  },
  {
   "cell_type": "code",
   "execution_count": 20,
   "metadata": {},
   "outputs": [
    {
     "data": {
      "text/plain": [
       "<matplotlib.image.AxesImage at 0x7f64ff2a9f90>"
      ]
     },
     "execution_count": 20,
     "metadata": {},
     "output_type": "execute_result"
    },
    {
     "data": {
      "image/png": "[encoded data removed]",
      "text/plain": [
       "<matplotlib.figure.Figure at 0x7f64ff07efd0>"
      ]
     },
     "metadata": {},
     "output_type": "display_data"
    }
   ],
   "source": [
    "plt.imshow(x[111].reshape(300,300))"
   ]
  },
  {
   "cell_type": "code",
   "execution_count": 21,
   "metadata": {
    "collapsed": true
   },
   "outputs": [],
   "source": [
    "xtr, xte, ytr, yte = train_test_split(x, y, stratify=y)\n",
    "ytr = keras.utils.np_utils.to_categorical(ytr, 12)\n",
    "yte = keras.utils.np_utils.to_categorical(yte, 12)"
   ]
  },
  {
   "cell_type": "code",
   "execution_count": 22,
   "metadata": {
    "collapsed": true
   },
   "outputs": [],
   "source": [
    "input_num_units = 90000\n",
    "hidden_num_units = 20\n",
    "output_num_units = 12\n",
    "epochs = 14\n",
    "batch_size = 128\n",
    "pixel_count = 90000"
   ]
  },
  {
   "cell_type": "code",
   "execution_count": 23,
   "metadata": {
    "collapsed": true
   },
   "outputs": [],
   "source": [
    "model = Sequential()\n",
    "model.add(Convolution2D(12, 4, 4, input_shape=(300, 300, 1)))\n",
    "model.add(Activation('relu'))\n",
    "model.add(MaxPooling2D(pool_size=(2,2)))\n",
    "\n",
    "model.add(Convolution2D(12, 4, 4))\n",
    "model.add(Activation('relu'))\n",
    "model.add(MaxPooling2D(pool_size=(2,2)))\n",
    "\n",
    "model.add(Dropout(0.5))\n",
    "model.add(Flatten())\n",
    "model.add(Dense(120))\n",
    "model.add(Activation('relu'))\n",
    "model.add(Dense(12))\n",
    "model.add(Activation('softmax'))\n",
    "\n",
    "rms = keras.optimizers.RMSprop(lr=0.0001, rho=0.9, epsilon=1e-08, decay=0.0)\n",
    "model.compile(loss='categorical_crossentropy', metrics=['accuracy'],\n",
    "              optimizer='rmsprop')\n",
    "\n",
    "\n",
    "# RMS Optimizer\n",
    "# rms = keras.optimizers.RMSprop(lr=0.001, rho=0.9, epsilon=1e-08, decay=0.0)\n",
    "# model.compile(loss='categorical_crossentropy', optimizer=rms,  metrics=['accuracy'])\n",
    "\n",
    "# Adagrade Optimizer\n",
    "# adagrad = keras.optimizers.Adagrad(lr=0.01, epsilon=1e-08, decay=0.0)\n",
    "# model.compile(loss='categorical_crossentropy', optimizer=adagrad,  metrics=['accuracy'])"
   ]
  },
  {
   "cell_type": "code",
   "execution_count": 24,
   "metadata": {
    "collapsed": true
   },
   "outputs": [],
   "source": [
    "# model.fit(xtr, ytr, batch_size=72, nb_epoch=14, verbose=2, validation_data=(xte, yte))\n",
    "# score, acc = model.evaluate(xte, yte, verbose=0)\n",
    "# print('Test accuracy:', acc)"
   ]
  },
  {
   "cell_type": "code",
   "execution_count": 25,
   "metadata": {},
   "outputs": [
    {
     "name": "stdout",
     "output_type": "stream",
     "text": [
      "Train on 3895 samples, validate on 1299 samples\n",
      "Epoch 1/14\n",
      "13s - loss: 2.3382 - acc: 0.2739 - val_loss: 2.1524 - val_acc: 0.3149\n",
      "Epoch 2/14\n",
      "13s - loss: 1.2579 - acc: 0.6033 - val_loss: 1.1570 - val_acc: 0.6074\n",
      "Epoch 3/14\n",
      "13s - loss: 0.5317 - acc: 0.8475 - val_loss: 0.7829 - val_acc: 0.7529\n",
      "Epoch 4/14\n",
      "13s - loss: 0.1958 - acc: 0.9448 - val_loss: 0.8620 - val_acc: 0.7413\n",
      "Epoch 5/14\n",
      "13s - loss: 0.0700 - acc: 0.9789 - val_loss: 0.6807 - val_acc: 0.8014\n",
      "Epoch 6/14\n",
      "13s - loss: 0.0367 - acc: 0.9902 - val_loss: 0.6510 - val_acc: 0.8268\n",
      "Epoch 7/14\n",
      "13s - loss: 0.0242 - acc: 0.9938 - val_loss: 0.7486 - val_acc: 0.7968\n",
      "Epoch 8/14\n",
      "13s - loss: 0.0271 - acc: 0.9941 - val_loss: 0.7047 - val_acc: 0.8253\n",
      "Epoch 9/14\n",
      "13s - loss: 0.0171 - acc: 0.9954 - val_loss: 0.6102 - val_acc: 0.8329\n",
      "Epoch 10/14\n",
      "13s - loss: 0.0056 - acc: 0.9985 - val_loss: 0.6670 - val_acc: 0.8499\n",
      "Epoch 11/14\n",
      "13s - loss: 0.0082 - acc: 0.9985 - val_loss: 0.7951 - val_acc: 0.8037\n",
      "Epoch 12/14\n",
      "13s - loss: 0.0042 - acc: 0.9990 - val_loss: 0.7520 - val_acc: 0.8406\n",
      "Epoch 13/14\n",
      "13s - loss: 0.0028 - acc: 0.9992 - val_loss: 0.8116 - val_acc: 0.8329\n",
      "Epoch 14/14\n",
      "13s - loss: 0.0032 - acc: 0.9990 - val_loss: 0.7586 - val_acc: 0.8353\n",
      "['acc', 'loss', 'val_acc', 'val_loss']\n"
     ]
    },
    {
     "data": {
      "image/png": "[encoded data removed]",
      "text/plain": [
       "<matplotlib.figure.Figure at 0x7f63a2668f90>"
      ]
     },
     "metadata": {},
     "output_type": "display_data"
    },
    {
     "data": {
      "image/png": "[encoded data removed]",
      "text/plain": [
       "<matplotlib.figure.Figure at 0x7f64121fc910>"
      ]
     },
     "metadata": {},
     "output_type": "display_data"
    }
   ],
   "source": [
    "trained_model = model.fit(xtr, ytr, batch_size=72, nb_epoch=14, verbose=2, validation_data=(xte, yte))\n",
    "# list all data in history\n",
    "print(trained_model.history.keys())\n",
    "# summarize history for accuracy\n",
    "plt.plot(trained_model.history['acc'])\n",
    "plt.plot(trained_model.history['val_acc'])\n",
    "plt.title('model accuracy')\n",
    "plt.ylabel('accuracy')\n",
    "plt.xlabel('epoch')\n",
    "plt.legend(['train', 'test'], loc='best')\n",
    "plt.show()\n",
    "# summarize history for loss\n",
    "plt.plot(trained_model.history['loss'])\n",
    "plt.plot(trained_model.history['val_loss'])\n",
    "plt.title('model loss')\n",
    "plt.ylabel('loss')\n",
    "plt.xlabel('epoch')\n",
    "plt.legend(['train', 'test'], loc='best')\n",
    "plt.show()"
   ]
  },
  {
   "cell_type": "code",
   "execution_count": 26,
   "metadata": {},
   "outputs": [
    {
     "name": "stdout",
     "output_type": "stream",
     "text": [
      "('Test score:', 0.7585820304695875)\n",
      "('Test accuracy:', 0.83525789077691248)\n"
     ]
    }
   ],
   "source": [
    "score = model.evaluate(xte, yte, show_accuracy=True, verbose=0)\n",
    "print('Test score:', score[0])\n",
    "print('Test accuracy:', score[1])\n",
    "# print(model.predict_classes(xte[1:5]))\n",
    "# print(yte[1:5])"
   ]
  },
  {
   "cell_type": "code",
   "execution_count": 27,
   "metadata": {},
   "outputs": [
    {
     "name": "stdout",
     "output_type": "stream",
     "text": [
      "[[  1.77425386e-06   1.65296790e-08   2.81930483e-07 ...,   5.82931072e-08\n",
      "    9.99997735e-01   2.57321346e-08]\n",
      " [  9.78318426e-10   3.71230720e-03   9.96268630e-01 ...,   9.32282234e-08\n",
      "    1.66696227e-05   2.17829577e-09]\n",
      " [  5.72924412e-13   9.99998093e-01   4.24094759e-10 ...,   3.44098516e-15\n",
      "    3.43842663e-11   1.85666318e-06]\n",
      " ..., \n",
      " [  1.27412227e-03   1.77545519e-06   2.70745549e-02 ...,   9.70060408e-01\n",
      "    1.08401537e-05   2.18304038e-07]\n",
      " [  2.28667815e-07   2.45221463e-06   5.95821916e-12 ...,   4.11066363e-12\n",
      "    1.29481004e-09   9.99997258e-01]\n",
      " [  4.69127350e-04   3.24962706e-08   9.11896706e-01 ...,   8.75204206e-02\n",
      "    4.89326521e-05   3.48064714e-06]]\n",
      "[10  2  1 ...,  9 11  2]\n",
      "1248/1299 [===========================>..] - ETA: 0s[10  2  1 ...,  9 11  2]\n",
      "1248/1299 [===========================>..] - ETA: 0s             precision    recall  f1-score   support\n",
      "\n",
      "          C       0.83      0.93      0.87       229\n",
      "          G       0.91      0.90      0.91       292\n",
      "          D       0.75      0.94      0.83       205\n",
      "          A       0.80      0.86      0.83        86\n",
      "          E       0.68      0.64      0.66        44\n",
      "          B       1.00      0.22      0.36         9\n",
      "         Gb       0.00      0.00      0.00         8\n",
      "         Db       0.71      0.40      0.51        25\n",
      "         Ab       0.88      0.42      0.57        33\n",
      "         Eb       0.81      0.64      0.72        69\n",
      "         Bb       0.90      0.73      0.81       142\n",
      "          F       0.89      0.89      0.89       157\n",
      "\n",
      "avg / total       0.83      0.84      0.83      1299\n",
      "\n",
      "[[213   2   4   1   0   0   0   0   0   0   3   6]\n",
      " [  3 264  19   0   0   0   0   0   0   0   1   5]\n",
      " [  1   9 192   0   1   0   0   0   0   1   1   0]\n",
      " [  3   0   6  74   2   0   0   0   0   1   0   0]\n",
      " [  1   1   2  11  28   0   0   1   0   0   0   0]\n",
      " [  0   2   1   0   4   2   0   0   0   0   0   0]\n",
      " [  4   0   0   2   0   0   0   1   0   0   1   0]\n",
      " [  3   3   1   0   5   0   0  10   2   0   0   1]\n",
      " [  6   0   1   4   0   0   0   2  14   4   2   0]\n",
      " [  8   0  12   1   0   0   0   0   0  44   4   0]\n",
      " [  7   4  17   0   0   0   0   0   0   4 104   6]\n",
      " [  9   6   1   0   1   0   0   0   0   0   0 140]]\n"
     ]
    }
   ],
   "source": [
    "from sklearn.metrics import classification_report,confusion_matrix\n",
    "\n",
    "Y_pred = model.predict(xte)\n",
    "print(Y_pred)\n",
    "y_pred = np.argmax(Y_pred, axis=1)\n",
    "print(y_pred)\n",
    "\n",
    "y_pred = model.predict_classes(xte)\n",
    "print(y_pred)\n",
    "\n",
    "p=model.predict_proba(xte)\n",
    "\n",
    "target_names = ['C','G','D','A','E','B','Gb','Db','Ab','Eb','Bb','F']\n",
    "print(classification_report(np.argmax(yte,axis=1), y_pred, target_names=target_names))\n",
    "print(confusion_matrix(np.argmax(yte,axis=1), y_pred))"
   ]
  },
  {
   "cell_type": "code",
   "execution_count": 28,
   "metadata": {},
   "outputs": [
    {
     "name": "stdout",
     "output_type": "stream",
     "text": [
      "____________________________________________________________________________________________________\n",
      "Layer (type)                     Output Shape          Param #     Connected to                     \n",
      "====================================================================================================\n",
      "convolution2d_5 (Convolution2D)  (None, 297, 297, 12)  204         convolution2d_input_3[0][0]      \n",
      "____________________________________________________________________________________________________\n",
      "activation_9 (Activation)        (None, 297, 297, 12)  0           convolution2d_5[0][0]            \n",
      "____________________________________________________________________________________________________\n",
      "maxpooling2d_5 (MaxPooling2D)    (None, 148, 148, 12)  0           activation_9[0][0]               \n",
      "____________________________________________________________________________________________________\n",
      "convolution2d_6 (Convolution2D)  (None, 145, 145, 12)  2316        maxpooling2d_5[0][0]             \n",
      "____________________________________________________________________________________________________\n",
      "activation_10 (Activation)       (None, 145, 145, 12)  0           convolution2d_6[0][0]            \n",
      "____________________________________________________________________________________________________\n",
      "maxpooling2d_6 (MaxPooling2D)    (None, 72, 72, 12)    0           activation_10[0][0]              \n",
      "____________________________________________________________________________________________________\n",
      "dropout_3 (Dropout)              (None, 72, 72, 12)    0           maxpooling2d_6[0][0]             \n",
      "____________________________________________________________________________________________________\n",
      "flatten_3 (Flatten)              (None, 62208)         0           dropout_3[0][0]                  \n",
      "____________________________________________________________________________________________________\n",
      "dense_5 (Dense)                  (None, 120)           7465080     flatten_3[0][0]                  \n",
      "____________________________________________________________________________________________________\n",
      "activation_11 (Activation)       (None, 120)           0           dense_5[0][0]                    \n",
      "____________________________________________________________________________________________________\n",
      "dense_6 (Dense)                  (None, 12)            1452        activation_11[0][0]              \n",
      "____________________________________________________________________________________________________\n",
      "activation_12 (Activation)       (None, 12)            0           dense_6[0][0]                    \n",
      "====================================================================================================\n",
      "Total params: 7,469,052\n",
      "Trainable params: 7,469,052\n",
      "Non-trainable params: 0\n",
      "____________________________________________________________________________________________________\n"
     ]
    }
   ],
   "source": [
    "model.summary()"
   ]
  },
  {
   "cell_type": "code",
   "execution_count": null,
   "metadata": {
    "collapsed": true
   },
   "outputs": [],
   "source": []
  }
 ],
 "metadata": {
  "kernelspec": {
   "display_name": "Python 2",
   "language": "python",
   "name": "python2"
  },
  "language_info": {
   "codemirror_mode": {
    "name": "ipython",
    "version": 2
   },
   "file_extension": ".py",
   "mimetype": "text/x-python",
   "name": "python",
   "nbconvert_exporter": "python",
   "pygments_lexer": "ipython2",
   "version": "2.7.12"
  }
 },
 "nbformat": 4,
 "nbformat_minor": 2
}
