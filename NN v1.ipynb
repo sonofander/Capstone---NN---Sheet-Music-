{
 "cells": [
  {
   "cell_type": "code",
   "execution_count": 122,
   "metadata": {
    "collapsed": false
   },
   "outputs": [
    {
     "name": "stdout",
     "output_type": "stream",
     "text": [
      "Populating the interactive namespace from numpy and matplotlib\n"
     ]
    },
    {
     "name": "stderr",
     "output_type": "stream",
     "text": [
      "WARNING: pylab import has clobbered these variables: ['seed', 'imread']\n",
      "`%matplotlib` prevents importing * from pylab and numpy\n"
     ]
    }
   ],
   "source": [
    "%pylab inline\n",
    "import os\n",
    "import numpy as np\n",
    "import pandas as pd\n",
    "from scipy.misc import imread\n",
    "from sklearn.metrics import accuracy_score\n",
    "from sklearn.cross_validation import train_test_split\n",
    "import re\n",
    "\n",
    "import tensorflow as tf\n",
    "import keras\n",
    "\n",
    "from keras.models import Sequential\n",
    "from keras.layers import Dense, Activation, Dropout, Convolution2D, Flatten, MaxPooling2D, Reshape, InputLayer\n",
    "from keras.optimizers import SGD\n",
    "\n",
    "root_dir = os.path.abspath('/Users/dcolton/Desktop/checked/')\n",
    "os.path.exists(root_dir)\n",
    "\n",
    "seed = 128\n",
    "rng = np.random.RandomState(seed)"
   ]
  },
  {
   "cell_type": "code",
   "execution_count": 3,
   "metadata": {
    "collapsed": false
   },
   "outputs": [],
   "source": [
    "train = pd.read_csv(os.path.join(root_dir, 'train.csv'))\n",
    "sample_submission = pd.read_csv(os.path.join(root_dir, 'train.csv'))"
   ]
  },
  {
   "cell_type": "code",
   "execution_count": 4,
   "metadata": {
    "collapsed": true
   },
   "outputs": [],
   "source": [
    "dfpngdf = pd.read_csv('checked/pngdf.csv', sep='\\t', header=None)\n",
    "dfb = (pd.DataFrame(dfpngdf[0].map(lambda x: x[:-4])))\n",
    "df = pd.concat([dfpngdf, dfb], axis = 1)\n",
    "df.columns = ['png','Title']"
   ]
  },
  {
   "cell_type": "code",
   "execution_count": 5,
   "metadata": {
    "collapsed": false
   },
   "outputs": [
    {
     "name": "stdout",
     "output_type": "stream",
     "text": [
      "2824\n"
     ]
    }
   ],
   "source": [
    "namecol = []\n",
    "\n",
    "for t in df.Title:\n",
    "    i = t[-3:]\n",
    "    m = re.match(\".+(-\\d{1,2})\",i)\n",
    "    if m:\n",
    "        t = t.replace(m.group(1),\"\")\n",
    "    namecol.append(t)\n",
    "print len(namecol)\n",
    "        \n",
    "        \n",
    "    \n",
    "    "
   ]
  },
  {
   "cell_type": "code",
   "execution_count": 6,
   "metadata": {
    "collapsed": false
   },
   "outputs": [
    {
     "data": {
      "text/plain": [
       "(2824, 2)"
      ]
     },
     "execution_count": 6,
     "metadata": {},
     "output_type": "execute_result"
    }
   ],
   "source": [
    "df.shape"
   ]
  },
  {
   "cell_type": "code",
   "execution_count": 7,
   "metadata": {
    "collapsed": true
   },
   "outputs": [],
   "source": [
    "df['Stripped']=np.array(namecol)"
   ]
  },
  {
   "cell_type": "code",
   "execution_count": 8,
   "metadata": {
    "collapsed": false
   },
   "outputs": [],
   "source": [
    "train['Stripped']=train['Title']"
   ]
  },
  {
   "cell_type": "code",
   "execution_count": 9,
   "metadata": {
    "collapsed": false
   },
   "outputs": [],
   "source": [
    "dfnew = pd.merge(df, train, how='left',on=['Stripped'])"
   ]
  },
  {
   "cell_type": "code",
   "execution_count": 31,
   "metadata": {
    "collapsed": false
   },
   "outputs": [
    {
     "data": {
      "text/plain": [
       "(3088, 14)"
      ]
     },
     "execution_count": 31,
     "metadata": {},
     "output_type": "execute_result"
    }
   ],
   "source": [
    "dfnew.shape"
   ]
  },
  {
   "cell_type": "code",
   "execution_count": 11,
   "metadata": {
    "collapsed": false
   },
   "outputs": [],
   "source": [
    "null_data = dfnew[dfnew.isnull().any(axis=1)]"
   ]
  },
  {
   "cell_type": "code",
   "execution_count": 12,
   "metadata": {
    "collapsed": false
   },
   "outputs": [],
   "source": [
    "dfnew.drop(null_data.index, inplace=True)"
   ]
  },
  {
   "cell_type": "code",
   "execution_count": 20,
   "metadata": {
    "collapsed": false
   },
   "outputs": [],
   "source": [
    "dfnew['label'] = dfnew['Unnamed: 9']\n",
    "del dfnew['Unnamed: 9']"
   ]
  },
  {
   "cell_type": "code",
   "execution_count": 89,
   "metadata": {
    "collapsed": false
   },
   "outputs": [
    {
     "data": {
      "text/plain": [
       "1.0     1388\n",
       "3.0      719\n",
       "8.0      407\n",
       "4.0      263\n",
       "12.0     226\n",
       "6.0       65\n",
       "10.0       9\n",
       "2.0        8\n",
       "11.0       3\n",
       "Name: label, dtype: int64"
      ]
     },
     "execution_count": 89,
     "metadata": {},
     "output_type": "execute_result"
    }
   ],
   "source": [
    "dfnew['label'].value_counts()"
   ]
  },
  {
   "cell_type": "code",
   "execution_count": 43,
   "metadata": {
    "collapsed": false
   },
   "outputs": [],
   "source": [
    "temp = []\n",
    "i = 0\n",
    "for img_name in dfnew['png']:\n",
    "    for i in xrange(15):\n",
    "        if os.path.isfile('/Users/dcolton/Desktop/checked/'+ img_name + '-' + str(i)):\n",
    "            image_path = os.path.join('/Users/dcolton/Desktop/checked',img_name)\n",
    "            img = imread(image_path, flatten=True)\n",
    "            img = img.astype('float32')\n",
    "            temp.append(img)\n",
    "            i += 1\n",
    "    if os.path.isfile('/Users/dcolton/Desktop/checked/'+ img_name):\n",
    "        image_path = os.path.join('/Users/dcolton/Desktop/checked',img_name)\n",
    "        img = imread(image_path, flatten=True)\n",
    "        img = img.astype('float32')\n",
    "        temp.append(img)"
   ]
  },
  {
   "cell_type": "code",
   "execution_count": 37,
   "metadata": {
    "collapsed": false
   },
   "outputs": [
    {
     "data": {
      "text/plain": [
       "(3088,)"
      ]
     },
     "execution_count": 37,
     "metadata": {},
     "output_type": "execute_result"
    }
   ],
   "source": [
    "dfnew['png'].shape"
   ]
  },
  {
   "cell_type": "code",
   "execution_count": 101,
   "metadata": {
    "collapsed": false
   },
   "outputs": [
    {
     "data": {
      "text/plain": [
       "array([[ 255.,  255.,  255., ...,  255.,  255.,  255.],\n",
       "       [ 255.,  255.,  255., ...,  255.,  255.,  255.],\n",
       "       [ 255.,  255.,  255., ...,  255.,  255.,  255.],\n",
       "       ..., \n",
       "       [ 255.,  255.,  255., ...,    0.,    0.,    0.],\n",
       "       [ 255.,  255.,  255., ...,  255.,  255.,  255.],\n",
       "       [ 255.,  255.,  255., ...,  255.,  255.,  255.]], dtype=float32)"
      ]
     },
     "execution_count": 101,
     "metadata": {},
     "output_type": "execute_result"
    }
   ],
   "source": [
    "temp[0]"
   ]
  },
  {
   "cell_type": "code",
   "execution_count": 111,
   "metadata": {
    "collapsed": false
   },
   "outputs": [],
   "source": [
    "y = dfnew['label'].values"
   ]
  },
  {
   "cell_type": "code",
   "execution_count": 112,
   "metadata": {
    "collapsed": false
   },
   "outputs": [
    {
     "data": {
      "text/plain": [
       "array([ 6.,  4.,  8., ...,  1.,  3.,  1.])"
      ]
     },
     "execution_count": 112,
     "metadata": {},
     "output_type": "execute_result"
    }
   ],
   "source": [
    "y"
   ]
  },
  {
   "cell_type": "code",
   "execution_count": 107,
   "metadata": {
    "collapsed": true
   },
   "outputs": [],
   "source": [
    "x=np.stack(temp)\n",
    "x = x.reshape(3088, 90000).astype('Float32')\n",
    "x /= 255.0"
   ]
  },
  {
   "cell_type": "code",
   "execution_count": 108,
   "metadata": {
    "collapsed": false
   },
   "outputs": [
    {
     "name": "stdout",
     "output_type": "stream",
     "text": [
      "(3088, 90000)\n",
      "(3088, 13)\n"
     ]
    }
   ],
   "source": [
    "print x.shape\n",
    "print y.shape"
   ]
  },
  {
   "cell_type": "code",
   "execution_count": 113,
   "metadata": {
    "collapsed": false
   },
   "outputs": [],
   "source": [
    "xtr, xte, ytr, yte = train_test_split(x, y, stratify=y)"
   ]
  },
  {
   "cell_type": "code",
   "execution_count": 114,
   "metadata": {
    "collapsed": true
   },
   "outputs": [],
   "source": [
    "ytr = keras.utils.np_utils.to_categorical(ytr, 13)\n",
    "yte = keras.utils.np_utils.to_categorical(yte, 13)"
   ]
  },
  {
   "cell_type": "code",
   "execution_count": 127,
   "metadata": {
    "collapsed": true
   },
   "outputs": [],
   "source": [
    "input_num_units = 90000\n",
    "hidden_num_units = 20\n",
    "output_num_units = 13\n",
    "epochs = 50\n",
    "batch_size = 128\n",
    "pixel_count = 90000\n",
    "language_count = 13"
   ]
  },
  {
   "cell_type": "code",
   "execution_count": 128,
   "metadata": {
    "collapsed": false
   },
   "outputs": [],
   "source": [
    "model = Sequential()\n",
    "model.add(Dense(128, input_shape=(pixel_count,)))\n",
    "model.add(Activation('sigmoid'))\n",
    "# model.add(Dropout(0.5))\n",
    "model.add(Dense(language_count))\n",
    "model.add(Activation('softmax'))\n",
    "\n",
    "sgd = SGD(lr=0.001, decay=1e-6, momentum=0.9, nesterov=True)\n",
    "model.compile(loss='categorical_crossentropy', optimizer=sgd,  metrics=['accuracy'])\n",
    "\n",
    "\n",
    "# input_reshape = (300,300,1)\n",
    "# pool_size = (2, 2)\n",
    "# train_x_temp = xtr.reshape(-1, 300, 300, 1)\n",
    "# val_x_temp = xte.reshape(-1, 300, 300, 1)\n",
    "\n",
    "\n",
    "# model = Sequential([\n",
    "#  InputLayer(input_shape=input_reshape),\n",
    "\n",
    "#  Convolution2D(25, 5, 5, activation='relu'),\n",
    "#  MaxPooling2D(pool_size=pool_size),\n",
    "\n",
    "# #  Convolution2D(25, 5, 5, activation='relu'),\n",
    "# #  MaxPooling2D(pool_size=pool_size),\n",
    "\n",
    "# #  Convolution2D(25, 4, 4, activation='relu'),\n",
    "\n",
    "#  Flatten(),\n",
    "\n",
    "# #  Dense(output_dim=output_num_units, activation='relu'),\n",
    "# # \n",
    "#  Dense(output_dim=12, input_dim=hidden_num_units, activation='softmax'),\n",
    "# ])\n",
    "\n",
    "# model.compile(loss='categorical_crossentropy', optimizer='adam', metrics=['accuracy'])\n",
    "\n",
    "# trained_model_conv = model.fit(train_x_temp, ytr)\n",
    "# #         nb_epoch=epochs, batch_size=batch_size, validation_data=(val_x_temp, yte))"
   ]
  },
  {
   "cell_type": "code",
   "execution_count": 129,
   "metadata": {
    "collapsed": false
   },
   "outputs": [
    {
     "name": "stdout",
     "output_type": "stream",
     "text": [
      "Train on 2316 samples, validate on 772 samples\n",
      "Epoch 1/50\n",
      "2316/2316 [==============================] - 6s - loss: 1.6930 - acc: 0.4227 - val_loss: 1.5279 - val_acc: 0.4495\n",
      "Epoch 2/50\n",
      "2316/2316 [==============================] - 5s - loss: 1.5218 - acc: 0.4495 - val_loss: 1.5386 - val_acc: 0.4495\n",
      "Epoch 3/50\n",
      "2316/2316 [==============================] - 5s - loss: 1.5270 - acc: 0.4495 - val_loss: 1.5129 - val_acc: 0.4495\n",
      "Epoch 4/50\n",
      "2316/2316 [==============================] - 5s - loss: 1.5126 - acc: 0.4495 - val_loss: 1.5086 - val_acc: 0.4495\n",
      "Epoch 5/50\n",
      "2316/2316 [==============================] - 5s - loss: 1.5081 - acc: 0.4495 - val_loss: 1.5050 - val_acc: 0.4495\n",
      "Epoch 6/50\n",
      "2316/2316 [==============================] - 5s - loss: 1.5048 - acc: 0.4495 - val_loss: 1.5029 - val_acc: 0.4495\n",
      "Epoch 7/50\n",
      "2316/2316 [==============================] - 5s - loss: 1.5005 - acc: 0.4495 - val_loss: 1.5007 - val_acc: 0.4495\n",
      "Epoch 8/50\n",
      "2316/2316 [==============================] - 5s - loss: 1.4954 - acc: 0.4495 - val_loss: 1.4952 - val_acc: 0.4495\n",
      "Epoch 9/50\n",
      "2316/2316 [==============================] - 5s - loss: 1.4886 - acc: 0.4495 - val_loss: 1.5161 - val_acc: 0.4495\n",
      "Epoch 10/50\n",
      "2316/2316 [==============================] - 5s - loss: 1.4855 - acc: 0.4495 - val_loss: 1.4890 - val_acc: 0.4495\n",
      "Epoch 11/50\n",
      "2316/2316 [==============================] - 5s - loss: 1.4721 - acc: 0.4495 - val_loss: 1.4927 - val_acc: 0.4495\n",
      "Epoch 12/50\n",
      "2316/2316 [==============================] - 5s - loss: 1.4658 - acc: 0.4495 - val_loss: 1.5062 - val_acc: 0.4521\n",
      "Epoch 13/50\n",
      "2316/2316 [==============================] - 5s - loss: 1.4839 - acc: 0.4495 - val_loss: 1.4861 - val_acc: 0.4495\n",
      "Epoch 14/50\n",
      "2316/2316 [==============================] - 5s - loss: 1.4654 - acc: 0.4495 - val_loss: 1.4730 - val_acc: 0.4495\n",
      "Epoch 15/50\n",
      "2316/2316 [==============================] - 5s - loss: 1.4534 - acc: 0.4495 - val_loss: 1.4860 - val_acc: 0.4495\n",
      "Epoch 16/50\n",
      "2316/2316 [==============================] - 5s - loss: 1.4469 - acc: 0.4495 - val_loss: 1.4734 - val_acc: 0.4495\n",
      "Epoch 17/50\n",
      "2316/2316 [==============================] - 5s - loss: 1.4393 - acc: 0.4495 - val_loss: 1.5264 - val_acc: 0.4495\n",
      "Epoch 18/50\n",
      "2316/2316 [==============================] - 5s - loss: 1.4425 - acc: 0.4495 - val_loss: 1.4523 - val_acc: 0.4495\n",
      "Epoch 19/50\n",
      "2316/2316 [==============================] - 5s - loss: 1.4235 - acc: 0.4512 - val_loss: 1.4779 - val_acc: 0.4495\n",
      "Epoch 20/50\n",
      "2316/2316 [==============================] - 5s - loss: 1.4210 - acc: 0.4521 - val_loss: 1.4441 - val_acc: 0.4573\n",
      "Epoch 21/50\n",
      "2316/2316 [==============================] - 5s - loss: 1.4066 - acc: 0.4598 - val_loss: 1.4453 - val_acc: 0.4495\n",
      "Epoch 22/50\n",
      "2316/2316 [==============================] - 5s - loss: 1.3989 - acc: 0.4594 - val_loss: 1.4331 - val_acc: 0.4585\n",
      "Epoch 23/50\n",
      "2316/2316 [==============================] - 5s - loss: 1.3839 - acc: 0.4676 - val_loss: 1.4681 - val_acc: 0.4935\n",
      "Epoch 24/50\n",
      "2316/2316 [==============================] - 5s - loss: 1.3807 - acc: 0.4849 - val_loss: 1.4815 - val_acc: 0.5039\n",
      "Epoch 25/50\n",
      "2316/2316 [==============================] - 5s - loss: 1.3764 - acc: 0.4922 - val_loss: 1.4095 - val_acc: 0.4663\n",
      "Epoch 26/50\n",
      "2316/2316 [==============================] - 5s - loss: 1.3546 - acc: 0.4957 - val_loss: 1.4143 - val_acc: 0.4547\n",
      "Epoch 27/50\n",
      "2316/2316 [==============================] - 5s - loss: 1.3408 - acc: 0.5086 - val_loss: 1.4126 - val_acc: 0.5013\n",
      "Epoch 28/50\n",
      "2316/2316 [==============================] - 5s - loss: 1.3334 - acc: 0.5225 - val_loss: 1.3892 - val_acc: 0.4650\n",
      "Epoch 29/50\n",
      "2316/2316 [==============================] - 6s - loss: 1.3171 - acc: 0.5285 - val_loss: 1.3971 - val_acc: 0.4832\n",
      "Epoch 30/50\n",
      "2316/2316 [==============================] - 5s - loss: 1.2999 - acc: 0.5324 - val_loss: 1.5197 - val_acc: 0.3355\n",
      "Epoch 31/50\n",
      "2316/2316 [==============================] - 5s - loss: 1.3065 - acc: 0.5225 - val_loss: 1.4982 - val_acc: 0.3199\n",
      "Epoch 32/50\n",
      "2316/2316 [==============================] - 5s - loss: 1.2870 - acc: 0.5371 - val_loss: 1.3877 - val_acc: 0.4598\n",
      "Epoch 33/50\n",
      "2316/2316 [==============================] - 5s - loss: 1.2668 - acc: 0.5527 - val_loss: 1.3719 - val_acc: 0.4663\n",
      "Epoch 34/50\n",
      "2316/2316 [==============================] - 5s - loss: 1.2459 - acc: 0.5656 - val_loss: 1.5763 - val_acc: 0.2733\n",
      "Epoch 35/50\n",
      "2316/2316 [==============================] - 5s - loss: 1.2853 - acc: 0.5462 - val_loss: 1.3945 - val_acc: 0.4534\n",
      "Epoch 36/50\n",
      "2316/2316 [==============================] - 5s - loss: 1.2583 - acc: 0.5445 - val_loss: 1.4338 - val_acc: 0.4650\n",
      "Epoch 37/50\n",
      "2316/2316 [==============================] - 5s - loss: 1.2521 - acc: 0.5548 - val_loss: 1.3321 - val_acc: 0.5026\n",
      "Epoch 38/50\n",
      "2316/2316 [==============================] - 5s - loss: 1.2275 - acc: 0.5708 - val_loss: 1.4105 - val_acc: 0.5207\n",
      "Epoch 39/50\n",
      "2316/2316 [==============================] - 5s - loss: 1.2238 - acc: 0.5769 - val_loss: 1.3323 - val_acc: 0.4676\n",
      "Epoch 40/50\n",
      "2316/2316 [==============================] - 5s - loss: 1.2055 - acc: 0.5743 - val_loss: 1.3901 - val_acc: 0.5026\n",
      "Epoch 41/50\n",
      "2316/2316 [==============================] - 5s - loss: 1.1912 - acc: 0.5894 - val_loss: 1.2958 - val_acc: 0.5130\n",
      "Epoch 42/50\n",
      "2316/2316 [==============================] - 5s - loss: 1.1986 - acc: 0.5825 - val_loss: 1.3712 - val_acc: 0.5803\n",
      "Epoch 43/50\n",
      "2316/2316 [==============================] - 5s - loss: 1.1668 - acc: 0.6071 - val_loss: 1.4309 - val_acc: 0.4573\n",
      "Epoch 44/50\n",
      "2316/2316 [==============================] - 7s - loss: 1.1949 - acc: 0.5950 - val_loss: 1.3441 - val_acc: 0.4663\n",
      "Epoch 45/50\n",
      "2316/2316 [==============================] - 5s - loss: 1.1458 - acc: 0.6136 - val_loss: 1.3153 - val_acc: 0.5855\n",
      "Epoch 46/50\n",
      "2316/2316 [==============================] - 6s - loss: 1.1239 - acc: 0.6235 - val_loss: 1.3369 - val_acc: 0.6010\n",
      "Epoch 47/50\n",
      "2316/2316 [==============================] - 6s - loss: 1.1329 - acc: 0.6269 - val_loss: 1.2561 - val_acc: 0.5376\n",
      "Epoch 48/50\n",
      "2316/2316 [==============================] - 6s - loss: 1.1215 - acc: 0.6166 - val_loss: 1.3883 - val_acc: 0.5440\n",
      "Epoch 49/50\n",
      "2316/2316 [==============================] - 5s - loss: 1.1303 - acc: 0.6049 - val_loss: 1.2273 - val_acc: 0.5738\n",
      "Epoch 50/50\n",
      "2316/2316 [==============================] - 5s - loss: 1.0554 - acc: 0.6636 - val_loss: 1.2405 - val_acc: 0.6010\n"
     ]
    }
   ],
   "source": [
    "trained_model = model.fit(xtr, ytr, epochs=epochs, batch_size=batch_size, validation_data=(xte, yte))"
   ]
  },
  {
   "cell_type": "code",
   "execution_count": null,
   "metadata": {
    "collapsed": true
   },
   "outputs": [],
   "source": []
  }
 ],
 "metadata": {
  "kernelspec": {
   "display_name": "Python 2",
   "language": "python",
   "name": "python2"
  },
  "language_info": {
   "codemirror_mode": {
    "name": "ipython",
    "version": 2
   },
   "file_extension": ".py",
   "mimetype": "text/x-python",
   "name": "python",
   "nbconvert_exporter": "python",
   "pygments_lexer": "ipython2",
   "version": "2.7.13"
  }
 },
 "nbformat": 4,
 "nbformat_minor": 2
}
